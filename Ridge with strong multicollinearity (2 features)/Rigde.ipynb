{
 "cells": [
  {
   "cell_type": "code",
   "execution_count": 4,
   "id": "5681d92f",
   "metadata": {},
   "outputs": [
    {
     "data": {
      "text/html": [
       "<div>\n",
       "<style scoped>\n",
       "    .dataframe tbody tr th:only-of-type {\n",
       "        vertical-align: middle;\n",
       "    }\n",
       "\n",
       "    .dataframe tbody tr th {\n",
       "        vertical-align: top;\n",
       "    }\n",
       "\n",
       "    .dataframe thead th {\n",
       "        text-align: right;\n",
       "    }\n",
       "</style>\n",
       "<table border=\"1\" class=\"dataframe\">\n",
       "  <thead>\n",
       "    <tr style=\"text-align: right;\">\n",
       "      <th></th>\n",
       "      <th>x1</th>\n",
       "      <th>x2</th>\n",
       "      <th>y</th>\n",
       "    </tr>\n",
       "  </thead>\n",
       "  <tbody>\n",
       "    <tr>\n",
       "      <th>0</th>\n",
       "      <td>0.304717</td>\n",
       "      <td>0.296785</td>\n",
       "      <td>1.184256</td>\n",
       "    </tr>\n",
       "    <tr>\n",
       "      <th>1</th>\n",
       "      <td>-1.039984</td>\n",
       "      <td>-1.091767</td>\n",
       "      <td>-1.703349</td>\n",
       "    </tr>\n",
       "    <tr>\n",
       "      <th>2</th>\n",
       "      <td>0.750451</td>\n",
       "      <td>0.666717</td>\n",
       "      <td>1.349833</td>\n",
       "    </tr>\n",
       "    <tr>\n",
       "      <th>3</th>\n",
       "      <td>0.940565</td>\n",
       "      <td>0.916249</td>\n",
       "      <td>0.824933</td>\n",
       "    </tr>\n",
       "    <tr>\n",
       "      <th>4</th>\n",
       "      <td>-1.951035</td>\n",
       "      <td>-1.953724</td>\n",
       "      <td>-1.976319</td>\n",
       "    </tr>\n",
       "  </tbody>\n",
       "</table>\n",
       "</div>"
      ],
      "text/plain": [
       "         x1        x2         y\n",
       "0  0.304717  0.296785  1.184256\n",
       "1 -1.039984 -1.091767 -1.703349\n",
       "2  0.750451  0.666717  1.349833\n",
       "3  0.940565  0.916249  0.824933\n",
       "4 -1.951035 -1.953724 -1.976319"
      ]
     },
     "execution_count": 4,
     "metadata": {},
     "output_type": "execute_result"
    }
   ],
   "source": [
    "import numpy as np\n",
    "import pandas as pd\n",
    "df=pd.read_csv('ridge_correlated_150.csv')\n",
    "df.head()"
   ]
  },
  {
   "cell_type": "code",
   "execution_count": 14,
   "id": "2dc8f03c",
   "metadata": {},
   "outputs": [
    {
     "name": "stdout",
     "output_type": "stream",
     "text": [
      "Best alpha:0.006135907273413176\n",
      "\n",
      "coefficients:[ 4.44044028 -3.43936239]\n",
      "\n",
      "Intercept:0.01235141527258056\n",
      "\n",
      "R^2:0.6540701537760767\n",
      "\n",
      "RMSE:0.5704298447339554\n",
      "\n"
     ]
    }
   ],
   "source": [
    "from sklearn.model_selection import train_test_split\n",
    "from sklearn.linear_model import RidgeCV\n",
    "from sklearn.metrics import mean_squared_error,r2_score\n",
    "x=df[['x1','x2']]\n",
    "y=df['y']\n",
    "x_train,x_test,y_train,y_test=train_test_split(x,y,test_size=0.2,random_state=42)\n",
    "model=RidgeCV(alphas=np.logspace(-3,3,100),cv=5)\n",
    "model.fit(x_train,y_train)  # fit the model in ridge\n",
    "print(f'Best alpha:{model.alpha_}\\n')\n",
    "print(f'coefficients:{model.coef_}\\n')\n",
    "print(f'Intercept:{model.intercept_}\\n')\n",
    "y_pred=model.predict(x_test)\n",
    "print(f'R^2:{r2_score(y_test,y_pred)}\\n')\n",
    "print(f'RMSE:{np.sqrt(mean_squared_error(y_test,y_pred))}\\n')"
   ]
  }
 ],
 "metadata": {
  "kernelspec": {
   "display_name": "Python 3",
   "language": "python",
   "name": "python3"
  },
  "language_info": {
   "codemirror_mode": {
    "name": "ipython",
    "version": 3
   },
   "file_extension": ".py",
   "mimetype": "text/x-python",
   "name": "python",
   "nbconvert_exporter": "python",
   "pygments_lexer": "ipython3",
   "version": "3.13.0"
  }
 },
 "nbformat": 4,
 "nbformat_minor": 5
}
