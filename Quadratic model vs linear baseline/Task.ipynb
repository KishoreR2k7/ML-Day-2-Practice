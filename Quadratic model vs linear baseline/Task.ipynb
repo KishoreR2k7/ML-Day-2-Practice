{
 "cells": [
  {
   "cell_type": "code",
   "execution_count": 21,
   "id": "c4d85a96",
   "metadata": {},
   "outputs": [
    {
     "data": {
      "text/html": [
       "<div>\n",
       "<style scoped>\n",
       "    .dataframe tbody tr th:only-of-type {\n",
       "        vertical-align: middle;\n",
       "    }\n",
       "\n",
       "    .dataframe tbody tr th {\n",
       "        vertical-align: top;\n",
       "    }\n",
       "\n",
       "    .dataframe thead th {\n",
       "        text-align: right;\n",
       "    }\n",
       "</style>\n",
       "<table border=\"1\" class=\"dataframe\">\n",
       "  <thead>\n",
       "    <tr style=\"text-align: right;\">\n",
       "      <th></th>\n",
       "      <th>x</th>\n",
       "      <th>y</th>\n",
       "    </tr>\n",
       "  </thead>\n",
       "  <tbody>\n",
       "    <tr>\n",
       "      <th>0</th>\n",
       "      <td>0.628947</td>\n",
       "      <td>2.312077</td>\n",
       "    </tr>\n",
       "    <tr>\n",
       "      <th>1</th>\n",
       "      <td>0.501392</td>\n",
       "      <td>2.690719</td>\n",
       "    </tr>\n",
       "    <tr>\n",
       "      <th>2</th>\n",
       "      <td>-1.465729</td>\n",
       "      <td>-4.114753</td>\n",
       "    </tr>\n",
       "    <tr>\n",
       "      <th>3</th>\n",
       "      <td>-1.761454</td>\n",
       "      <td>-5.990868</td>\n",
       "    </tr>\n",
       "    <tr>\n",
       "      <th>4</th>\n",
       "      <td>1.958149</td>\n",
       "      <td>5.174326</td>\n",
       "    </tr>\n",
       "  </tbody>\n",
       "</table>\n",
       "</div>"
      ],
      "text/plain": [
       "          x         y\n",
       "0  0.628947  2.312077\n",
       "1  0.501392  2.690719\n",
       "2 -1.465729 -4.114753\n",
       "3 -1.761454 -5.990868\n",
       "4  1.958149  5.174326"
      ]
     },
     "execution_count": 21,
     "metadata": {},
     "output_type": "execute_result"
    }
   ],
   "source": [
    "import numpy as np\n",
    "import pandas as pd\n",
    "df=pd.read_csv('poly_quadratic_150.csv')\n",
    "df.head()"
   ]
  },
  {
   "cell_type": "code",
   "execution_count": 22,
   "id": "066ef304",
   "metadata": {},
   "outputs": [],
   "source": [
    "from sklearn.model_selection import train_test_split\n",
    "x=df[['x','y']]\n",
    "y=df['y']\n",
    "x_train,x_test,y_train,y_test=train_test_split(x,y,test_size=0.2,random_state=42)\n"
   ]
  },
  {
   "cell_type": "code",
   "execution_count": 23,
   "id": "2e611ca5",
   "metadata": {},
   "outputs": [
    {
     "name": "stdout",
     "output_type": "stream",
     "text": [
      "\n",
      "Linear Model Results:\n",
      "R^2:1.0\n",
      "RMSE:1.9297877750495935e-15\n",
      "\n"
     ]
    }
   ],
   "source": [
    "#linear model l y ~ x\n",
    "from sklearn.linear_model import LinearRegression\n",
    "from sklearn.metrics import r2_score,mean_squared_error\n",
    "linear_model=LinearRegression()\n",
    "linear_model.fit(x_train, y_train)\n",
    "y_pred=linear_model.predict(x_test)\n",
    "print(\"\\nLinear Model Results:\")\n",
    "print(f'R^2:{r2_score(y_test,y_pred)}')\n",
    "print(f'RMSE:{np.sqrt(mean_squared_error(y_test,y_pred))}\\n')"
   ]
  },
  {
   "cell_type": "code",
   "execution_count": 27,
   "id": "af28dac8",
   "metadata": {},
   "outputs": [
    {
     "name": "stdout",
     "output_type": "stream",
     "text": [
      "Polynomial Model Results:\n",
      "R^2:1.0\n",
      "RMSE:6.49039076934525e-15\n",
      "\n"
     ]
    }
   ],
   "source": [
    "#polynomial model  y ~ x + x²\n",
    "from sklearn.preprocessing import PolynomialFeatures\n",
    "poly_features=PolynomialFeatures(degree=2, include_bias=False)\n",
    "x_train_poly=poly_features.fit_transform(x_train)\n",
    "x_test_poly=poly_features.transform(x_test)\n",
    "poly_model=LinearRegression()\n",
    "poly_model.fit(x_train_poly, y_train)\n",
    "y_pred_poly=poly_model.predict(x_test_poly)\n",
    "print(\"Polynomial Model Results:\")\n",
    "print(f'R^2:{r2_score(y_test,y_pred_poly)}')\n",
    "print(f'RMSE:{np.sqrt(mean_squared_error(y_test,y_pred_poly))}\\n')"
   ]
  },
  {
   "cell_type": "code",
   "execution_count": 35,
   "id": "3d6d6cb2",
   "metadata": {},
   "outputs": [
    {
     "name": "stdout",
     "output_type": "stream",
     "text": [
      "\n",
      "Prediction for x = 1.5, y = 0:\n",
      "Predicted y: 0.00\n"
     ]
    }
   ],
   "source": [
    "x_value = pd.DataFrame([[1.5, 0]], columns=['x', 'y'])\n",
    "x_value_poly = poly_features.transform(x_value)\n",
    "y_predicted_at_1_5 = poly_model.predict(x_value_poly)\n",
    "print(\"\\nPrediction for x = 1.5, y = 0:\")\n",
    "print(f\"Predicted y: {y_predicted_at_1_5[0]:.2f}\")"
   ]
  }
 ],
 "metadata": {
  "kernelspec": {
   "display_name": "Python 3",
   "language": "python",
   "name": "python3"
  },
  "language_info": {
   "codemirror_mode": {
    "name": "ipython",
    "version": 3
   },
   "file_extension": ".py",
   "mimetype": "text/x-python",
   "name": "python",
   "nbconvert_exporter": "python",
   "pygments_lexer": "ipython3",
   "version": "3.13.0"
  }
 },
 "nbformat": 4,
 "nbformat_minor": 5
}
