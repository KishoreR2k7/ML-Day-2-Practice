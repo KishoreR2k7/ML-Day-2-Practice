{
 "cells": [
  {
   "cell_type": "code",
   "execution_count": 2,
   "id": "e4875b88",
   "metadata": {},
   "outputs": [
    {
     "data": {
      "text/html": [
       "<div>\n",
       "<style scoped>\n",
       "    .dataframe tbody tr th:only-of-type {\n",
       "        vertical-align: middle;\n",
       "    }\n",
       "\n",
       "    .dataframe tbody tr th {\n",
       "        vertical-align: top;\n",
       "    }\n",
       "\n",
       "    .dataframe thead th {\n",
       "        text-align: right;\n",
       "    }\n",
       "</style>\n",
       "<table border=\"1\" class=\"dataframe\">\n",
       "  <thead>\n",
       "    <tr style=\"text-align: right;\">\n",
       "      <th></th>\n",
       "      <th>tenure_months</th>\n",
       "      <th>monthly_charges</th>\n",
       "      <th>support_tickets</th>\n",
       "      <th>is_premium</th>\n",
       "      <th>avg_usage_hours</th>\n",
       "      <th>churn</th>\n",
       "    </tr>\n",
       "  </thead>\n",
       "  <tbody>\n",
       "    <tr>\n",
       "      <th>0</th>\n",
       "      <td>59</td>\n",
       "      <td>38.545887</td>\n",
       "      <td>1</td>\n",
       "      <td>0</td>\n",
       "      <td>8.884947</td>\n",
       "      <td>1</td>\n",
       "    </tr>\n",
       "    <tr>\n",
       "      <th>1</th>\n",
       "      <td>37</td>\n",
       "      <td>66.209729</td>\n",
       "      <td>1</td>\n",
       "      <td>1</td>\n",
       "      <td>3.499774</td>\n",
       "      <td>0</td>\n",
       "    </tr>\n",
       "    <tr>\n",
       "      <th>2</th>\n",
       "      <td>61</td>\n",
       "      <td>20.123184</td>\n",
       "      <td>0</td>\n",
       "      <td>0</td>\n",
       "      <td>8.663038</td>\n",
       "      <td>1</td>\n",
       "    </tr>\n",
       "    <tr>\n",
       "      <th>3</th>\n",
       "      <td>43</td>\n",
       "      <td>79.832727</td>\n",
       "      <td>9</td>\n",
       "      <td>0</td>\n",
       "      <td>1.002993</td>\n",
       "      <td>1</td>\n",
       "    </tr>\n",
       "    <tr>\n",
       "      <th>4</th>\n",
       "      <td>70</td>\n",
       "      <td>80.730645</td>\n",
       "      <td>7</td>\n",
       "      <td>1</td>\n",
       "      <td>1.159190</td>\n",
       "      <td>0</td>\n",
       "    </tr>\n",
       "  </tbody>\n",
       "</table>\n",
       "</div>"
      ],
      "text/plain": [
       "   tenure_months  monthly_charges  support_tickets  is_premium  \\\n",
       "0             59        38.545887                1           0   \n",
       "1             37        66.209729                1           1   \n",
       "2             61        20.123184                0           0   \n",
       "3             43        79.832727                9           0   \n",
       "4             70        80.730645                7           1   \n",
       "\n",
       "   avg_usage_hours  churn  \n",
       "0         8.884947      1  \n",
       "1         3.499774      0  \n",
       "2         8.663038      1  \n",
       "3         1.002993      1  \n",
       "4         1.159190      0  "
      ]
     },
     "execution_count": 2,
     "metadata": {},
     "output_type": "execute_result"
    }
   ],
   "source": [
    "import pandas as pd\n",
    "import numpy as np\n",
    "import matplotlib.pyplot as plt\n",
    "from sklearn.model_selection import train_test_split\n",
    "from sklearn.preprocessing import StandardScaler\n",
    "from sklearn.linear_model import LogisticRegression\n",
    "from sklearn.metrics import accuracy_score, precision_score, recall_score, f1_score, roc_auc_score, confusion_matrix, ConfusionMatrixDisplay\n",
    "\n",
    "df = pd.read_csv('customer_churn.csv')\n",
    "df.head()"
   ]
  },
  {
   "cell_type": "code",
   "execution_count": 5,
   "id": "3260b273",
   "metadata": {},
   "outputs": [
    {
     "name": "stdout",
     "output_type": "stream",
     "text": [
      "Accuracy:0.5250\n",
      "\n",
      "Precision:0.5417\n",
      "\n",
      "Recall:0.6190\n",
      "F1 Score:0.5778\n",
      "\n",
      "ROC AUC:0.4737\n",
      "\n",
      "Confusion Matrix:\n",
      "[[ 8 11]\n",
      " [ 8 13]]\n",
      "\n"
     ]
    },
    {
     "data": {
      "image/png": "[encoded data removed]",
      "text/plain": [
       "<Figure size 640x480 with 2 Axes>"
      ]
     },
     "metadata": {},
     "output_type": "display_data"
    }
   ],
   "source": [
    "x=df[['tenure_months','monthly_charges','support_tickets','is_premium','avg_usage_hours']]\n",
    "y=df['churn']\n",
    "x_train,x_test,y_train,y_test=train_test_split(x,y,test_size=0.2,random_state=42,stratify=y)\n",
    "\n",
    "# Scale features\n",
    "scaler=StandardScaler()\n",
    "x_train_scaled=scaler.fit_transform(x_train)\n",
    "x_test_scaled=scaler.transform(x_test)\n",
    "\n",
    "# fit logistic regression\n",
    "model = LogisticRegression()\n",
    "model.fit(x_train_scaled,y_train)\n",
    "\n",
    "# Predictions\n",
    "y_pred = model.predict(x_test_scaled)\n",
    "y_prob = model.predict_proba(x_test_scaled)[:, 1]\n",
    "\n",
    "# Metrics\n",
    "\n",
    "# Print results\n",
    "print(f'Accuracy:{accuracy_score(y_test,y_pred):.4f}\\n')\n",
    "print(f'Precision:{precision_score(y_test,y_pred):.4f}\\n')\n",
    "print(f'Recall:{recall_score(y_test,y_pred):.4f}')\n",
    "print(f'F1 Score:{f1_score(y_test,y_pred):.4f}\\n')\n",
    "print(f'ROC AUC:{roc_auc_score(y_test,y_prob):.4f}\\n')\n",
    "print(f'Confusion Matrix:\\n{confusion_matrix(y_test,y_pred)}\\n')\n",
    "ConfusionMatrixDisplay(confusion_matrix=confusion_matrix(y_test,y_pred)).plot(cmap='Blues')\n",
    "plt.savefig('confusion_matrix.png')\n",
    "plt.show()"
   ]
  },
  {
   "cell_type": "code",
   "execution_count": null,
   "id": "0ae1a0bd",
   "metadata": {},
   "outputs": [],
   "source": []
  }
 ],
 "metadata": {
  "kernelspec": {
   "display_name": "Python 3",
   "language": "python",
   "name": "python3"
  },
  "language_info": {
   "codemirror_mode": {
    "name": "ipython",
    "version": 3
   },
   "file_extension": ".py",
   "mimetype": "text/x-python",
   "name": "python",
   "nbconvert_exporter": "python",
   "pygments_lexer": "ipython3",
   "version": "3.13.0"
  }
 },
 "nbformat": 4,
 "nbformat_minor": 5
}
