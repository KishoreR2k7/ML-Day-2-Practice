{
 "cells": [
  {
   "cell_type": "code",
   "execution_count": null,
   "id": "efecf75f",
   "metadata": {},
   "outputs": [
    {
     "data": {
      "text/html": [
       "<div>\n",
       "<style scoped>\n",
       "    .dataframe tbody tr th:only-of-type {\n",
       "        vertical-align: middle;\n",
       "    }\n",
       "\n",
       "    .dataframe tbody tr th {\n",
       "        vertical-align: top;\n",
       "    }\n",
       "\n",
       "    .dataframe thead th {\n",
       "        text-align: right;\n",
       "    }\n",
       "</style>\n",
       "<table border=\"1\" class=\"dataframe\">\n",
       "  <thead>\n",
       "    <tr style=\"text-align: right;\">\n",
       "      <th></th>\n",
       "      <th>age</th>\n",
       "      <th>b1</th>\n",
       "      <th>b2</th>\n",
       "      <th>b3</th>\n",
       "      <th>b4</th>\n",
       "      <th>stage</th>\n",
       "    </tr>\n",
       "  </thead>\n",
       "  <tbody>\n",
       "    <tr>\n",
       "      <th>0</th>\n",
       "      <td>29</td>\n",
       "      <td>-0.546507</td>\n",
       "      <td>1.081220</td>\n",
       "      <td>-1.972578</td>\n",
       "      <td>8.168842</td>\n",
       "      <td>0</td>\n",
       "    </tr>\n",
       "    <tr>\n",
       "      <th>1</th>\n",
       "      <td>35</td>\n",
       "      <td>-0.515717</td>\n",
       "      <td>6.465299</td>\n",
       "      <td>-3.663720</td>\n",
       "      <td>12.219401</td>\n",
       "      <td>1</td>\n",
       "    </tr>\n",
       "    <tr>\n",
       "      <th>2</th>\n",
       "      <td>35</td>\n",
       "      <td>0.297982</td>\n",
       "      <td>6.710920</td>\n",
       "      <td>-3.159595</td>\n",
       "      <td>10.055708</td>\n",
       "      <td>0</td>\n",
       "    </tr>\n",
       "    <tr>\n",
       "      <th>3</th>\n",
       "      <td>73</td>\n",
       "      <td>0.760905</td>\n",
       "      <td>7.574649</td>\n",
       "      <td>-2.055028</td>\n",
       "      <td>13.548206</td>\n",
       "      <td>0</td>\n",
       "    </tr>\n",
       "    <tr>\n",
       "      <th>4</th>\n",
       "      <td>50</td>\n",
       "      <td>-0.199529</td>\n",
       "      <td>5.941957</td>\n",
       "      <td>-3.226261</td>\n",
       "      <td>16.328148</td>\n",
       "      <td>1</td>\n",
       "    </tr>\n",
       "  </tbody>\n",
       "</table>\n",
       "</div>"
      ],
      "text/plain": [
       "   age        b1        b2        b3         b4  stage\n",
       "0   29 -0.546507  1.081220 -1.972578   8.168842      0\n",
       "1   35 -0.515717  6.465299 -3.663720  12.219401      1\n",
       "2   35  0.297982  6.710920 -3.159595  10.055708      0\n",
       "3   73  0.760905  7.574649 -2.055028  13.548206      0\n",
       "4   50 -0.199529  5.941957 -3.226261  16.328148      1"
      ]
     },
     "execution_count": 3,
     "metadata": {},
     "output_type": "execute_result"
    }
   ],
   "source": [
    "import pandas as pd\n",
    "import numpy as np\n",
    "import matplotlib.pyplot as plt\n",
    "from sklearn.model_selection import train_test_split\n",
    "from sklearn.preprocessing import StandardScaler\n",
    "from sklearn.linear_model import LogisticRegression\n",
    "from sklearn.metrics import accuracy_score, precision_score,recall_score,f1_score,roc_auc_score,confusion_matrix,ConfusionMatrixDisplay\n",
    "\n",
    "df = pd.read_csv('disease_stage.csv')\n",
    "df.head()"
   ]
  },
  {
   "cell_type": "code",
   "execution_count": 7,
   "id": "8915f11d",
   "metadata": {},
   "outputs": [
    {
     "name": "stdout",
     "output_type": "stream",
     "text": [
      "Report:\n",
      "Accuracy:0.25\n",
      "\n",
      "Marco_F1:0.23164874551971326\n",
      "\n",
      "Weighted_f1:0.25556182795698923\n",
      "\n",
      "Confusion Matrix:\n",
      "[[7 6 3]\n",
      " [3 1 7]\n",
      " [5 6 2]]\n",
      "\n"
     ]
    },
    {
     "name": "stderr",
     "output_type": "stream",
     "text": [
      "c:\\Users\\kishore\\AI WORKFORCE DAY 13\\anaconda\\Lib\\site-packages\\sklearn\\linear_model\\_logistic.py:1272: FutureWarning: 'multi_class' was deprecated in version 1.5 and will be removed in 1.7. From then on, it will always use 'multinomial'. Leave it to its default value to avoid this warning.\n",
      "  warnings.warn(\n"
     ]
    }
   ],
   "source": [
    "x=df[['age','b1','b2','b3','b4']]\n",
    "y=df['stage']\n",
    "x_train,x_test,y_train,y_test=train_test_split(x,y,test_size=0.2,random_state=42)\n",
    "scaler=StandardScaler()\n",
    "x_train=scaler.fit_transform(x_train)\n",
    "x_test=scaler.transform(x_test)\n",
    "model=LogisticRegression(multi_class='multinomial',solver='lbfgs',max_iter=1000)\n",
    "model.fit(x_train,y_train)\n",
    "y_pred=model.predict(x_test)\n",
    "print('Report:')\n",
    "print(f'Accuracy:{accuracy_score(y_test,y_pred)}\\n')\n",
    "print(f'Marco_F1:{f1_score(y_test,y_pred,average=\"macro\")}\\n')\n",
    "print(f'Weighted_f1:{f1_score(y_test,y_pred,average=\"weighted\")}\\n')\n",
    "print(f'Confusion Matrix:\\n{confusion_matrix(y_test,y_pred)}\\n')"
   ]
  }
 ],
 "metadata": {
  "kernelspec": {
   "display_name": "Python 3",
   "language": "python",
   "name": "python3"
  },
  "language_info": {
   "codemirror_mode": {
    "name": "ipython",
    "version": 3
   },
   "file_extension": ".py",
   "mimetype": "text/x-python",
   "name": "python",
   "nbconvert_exporter": "python",
   "pygments_lexer": "ipython3",
   "version": "3.13.0"
  }
 },
 "nbformat": 4,
 "nbformat_minor": 5
}
