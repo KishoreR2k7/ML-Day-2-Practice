{
 "cells": [
  {
   "cell_type": "code",
   "execution_count": 1,
   "id": "a94392af",
   "metadata": {},
   "outputs": [
    {
     "data": {
      "text/html": [
       "<div>\n",
       "<style scoped>\n",
       "    .dataframe tbody tr th:only-of-type {\n",
       "        vertical-align: middle;\n",
       "    }\n",
       "\n",
       "    .dataframe tbody tr th {\n",
       "        vertical-align: top;\n",
       "    }\n",
       "\n",
       "    .dataframe thead th {\n",
       "        text-align: right;\n",
       "    }\n",
       "</style>\n",
       "<table border=\"1\" class=\"dataframe\">\n",
       "  <thead>\n",
       "    <tr style=\"text-align: right;\">\n",
       "      <th></th>\n",
       "      <th>xA</th>\n",
       "      <th>xB</th>\n",
       "      <th>xC</th>\n",
       "      <th>xD</th>\n",
       "      <th>xE</th>\n",
       "      <th>y</th>\n",
       "    </tr>\n",
       "  </thead>\n",
       "  <tbody>\n",
       "    <tr>\n",
       "      <th>0</th>\n",
       "      <td>0.747912</td>\n",
       "      <td>0.780678</td>\n",
       "      <td>-0.929700</td>\n",
       "      <td>-0.973168</td>\n",
       "      <td>-3.001728</td>\n",
       "      <td>0.551114</td>\n",
       "    </tr>\n",
       "    <tr>\n",
       "      <th>1</th>\n",
       "      <td>0.032116</td>\n",
       "      <td>-0.070078</td>\n",
       "      <td>1.346852</td>\n",
       "      <td>1.140118</td>\n",
       "      <td>-1.529386</td>\n",
       "      <td>2.860639</td>\n",
       "    </tr>\n",
       "    <tr>\n",
       "      <th>2</th>\n",
       "      <td>-0.746102</td>\n",
       "      <td>-0.744582</td>\n",
       "      <td>-0.945482</td>\n",
       "      <td>-0.788598</td>\n",
       "      <td>-0.019705</td>\n",
       "      <td>-3.027325</td>\n",
       "    </tr>\n",
       "    <tr>\n",
       "      <th>3</th>\n",
       "      <td>0.796290</td>\n",
       "      <td>0.607186</td>\n",
       "      <td>0.471938</td>\n",
       "      <td>0.460764</td>\n",
       "      <td>-0.065898</td>\n",
       "      <td>1.199039</td>\n",
       "    </tr>\n",
       "    <tr>\n",
       "      <th>4</th>\n",
       "      <td>0.026122</td>\n",
       "      <td>-0.116423</td>\n",
       "      <td>-0.816231</td>\n",
       "      <td>-0.813252</td>\n",
       "      <td>0.633200</td>\n",
       "      <td>-2.263425</td>\n",
       "    </tr>\n",
       "  </tbody>\n",
       "</table>\n",
       "</div>"
      ],
      "text/plain": [
       "         xA        xB        xC        xD        xE         y\n",
       "0  0.747912  0.780678 -0.929700 -0.973168 -3.001728  0.551114\n",
       "1  0.032116 -0.070078  1.346852  1.140118 -1.529386  2.860639\n",
       "2 -0.746102 -0.744582 -0.945482 -0.788598 -0.019705 -3.027325\n",
       "3  0.796290  0.607186  0.471938  0.460764 -0.065898  1.199039\n",
       "4  0.026122 -0.116423 -0.816231 -0.813252  0.633200 -2.263425"
      ]
     },
     "execution_count": 1,
     "metadata": {},
     "output_type": "execute_result"
    }
   ],
   "source": [
    "import numpy as np\n",
    "import pandas as pd\n",
    "df=pd.read_csv('lasso_groups_150.csv')\n",
    "df.head()"
   ]
  },
  {
   "cell_type": "code",
   "execution_count": 3,
   "id": "539d594a",
   "metadata": {},
   "outputs": [
    {
     "name": "stdout",
     "output_type": "stream",
     "text": [
      "Best alpha:0.003608591334120754\n",
      "\n",
      "coefficients:[ 2.04028628 -0.          1.60923693  0.         -0.16289269]\n",
      "\n",
      "Intercept:-0.06746553791233204\n",
      "\n",
      "R^2:0.9139898313782668\n",
      "\n",
      "RMSE:0.9098913642117109\n"
     ]
    }
   ],
   "source": [
    "from sklearn.model_selection import train_test_split\n",
    "from sklearn.linear_model import LassoCV\n",
    "from sklearn.metrics import mean_squared_error,r2_score\n",
    "x=df[['xA','xB','xC','xD','xE']]\n",
    "y=df['y']\n",
    "x_train,x_test,y_train,y_test=train_test_split(x,y,test_size=0.2,random_state=42)\n",
    "model=LassoCV(cv=5,random_state=42)\n",
    "model.fit(x_train,y_train)  # fit the model in lasso\n",
    "print(f'Best alpha:{model.alpha_}\\n')\n",
    "y_pred=model.predict(x_test)\n",
    "print(f'coefficients:{model.coef_}\\n')\n",
    "print(f'Intercept:{model.intercept_}\\n')\n",
    "print(f'R^2:{r2_score(y_test,y_pred)}\\n')\n",
    "print(f'RMSE:{np.sqrt(mean_squared_error(y_test,y_pred))}')"
   ]
  }
 ],
 "metadata": {
  "kernelspec": {
   "display_name": "Python 3",
   "language": "python",
   "name": "python3"
  },
  "language_info": {
   "codemirror_mode": {
    "name": "ipython",
    "version": 3
   },
   "file_extension": ".py",
   "mimetype": "text/x-python",
   "name": "python",
   "nbconvert_exporter": "python",
   "pygments_lexer": "ipython3",
   "version": "3.13.0"
  }
 },
 "nbformat": 4,
 "nbformat_minor": 5
}
